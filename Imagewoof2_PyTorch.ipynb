{
  "nbformat": 4,
  "nbformat_minor": 0,
  "metadata": {
    "colab": {
      "name": "Imagewoof2_PyTorch.ipynb",
      "provenance": [],
      "include_colab_link": true
    },
    "kernelspec": {
      "name": "python3",
      "display_name": "Python 3"
    },
    "language_info": {
      "name": "python"
    },
    "widgets": {
      "application/vnd.jupyter.widget-state+json": {
        "657f23469379442c94c3ce0b894089e6": {
          "model_module": "@jupyter-widgets/controls",
          "model_name": "HBoxModel",
          "state": {
            "_view_name": "HBoxView",
            "_dom_classes": [],
            "_model_name": "HBoxModel",
            "_view_module": "@jupyter-widgets/controls",
            "_model_module_version": "1.5.0",
            "_view_count": null,
            "_view_module_version": "1.5.0",
            "box_style": "",
            "layout": "IPY_MODEL_8e2c8581d40e4d4788ad8fcbeff8c815",
            "_model_module": "@jupyter-widgets/controls",
            "children": [
              "IPY_MODEL_79883f5e72aa4ac0b82d6d41e4496850",
              "IPY_MODEL_27e81888aeb545ac923d9a270fe4ba93"
            ]
          }
        },
        "8e2c8581d40e4d4788ad8fcbeff8c815": {
          "model_module": "@jupyter-widgets/base",
          "model_name": "LayoutModel",
          "state": {
            "_view_name": "LayoutView",
            "grid_template_rows": null,
            "right": null,
            "justify_content": null,
            "_view_module": "@jupyter-widgets/base",
            "overflow": null,
            "_model_module_version": "1.2.0",
            "_view_count": null,
            "flex_flow": null,
            "width": null,
            "min_width": null,
            "border": null,
            "align_items": null,
            "bottom": null,
            "_model_module": "@jupyter-widgets/base",
            "top": null,
            "grid_column": null,
            "overflow_y": null,
            "overflow_x": null,
            "grid_auto_flow": null,
            "grid_area": null,
            "grid_template_columns": null,
            "flex": null,
            "_model_name": "LayoutModel",
            "justify_items": null,
            "grid_row": null,
            "max_height": null,
            "align_content": null,
            "visibility": null,
            "align_self": null,
            "height": null,
            "min_height": null,
            "padding": null,
            "grid_auto_rows": null,
            "grid_gap": null,
            "max_width": null,
            "order": null,
            "_view_module_version": "1.2.0",
            "grid_template_areas": null,
            "object_position": null,
            "object_fit": null,
            "grid_auto_columns": null,
            "margin": null,
            "display": null,
            "left": null
          }
        },
        "79883f5e72aa4ac0b82d6d41e4496850": {
          "model_module": "@jupyter-widgets/controls",
          "model_name": "FloatProgressModel",
          "state": {
            "_view_name": "ProgressView",
            "style": "IPY_MODEL_57300f9b2c1744d096ded739bb798bd0",
            "_dom_classes": [],
            "description": "100%",
            "_model_name": "FloatProgressModel",
            "bar_style": "success",
            "max": 553433881,
            "_view_module": "@jupyter-widgets/controls",
            "_model_module_version": "1.5.0",
            "value": 553433881,
            "_view_count": null,
            "_view_module_version": "1.5.0",
            "orientation": "horizontal",
            "min": 0,
            "description_tooltip": null,
            "_model_module": "@jupyter-widgets/controls",
            "layout": "IPY_MODEL_986e8790cffb486f81c609db929884f9"
          }
        },
        "27e81888aeb545ac923d9a270fe4ba93": {
          "model_module": "@jupyter-widgets/controls",
          "model_name": "HTMLModel",
          "state": {
            "_view_name": "HTMLView",
            "style": "IPY_MODEL_492dec995b7244f49c25edb45e71a065",
            "_dom_classes": [],
            "description": "",
            "_model_name": "HTMLModel",
            "placeholder": "​",
            "_view_module": "@jupyter-widgets/controls",
            "_model_module_version": "1.5.0",
            "value": " 528M/528M [00:22&lt;00:00, 24.6MB/s]",
            "_view_count": null,
            "_view_module_version": "1.5.0",
            "description_tooltip": null,
            "_model_module": "@jupyter-widgets/controls",
            "layout": "IPY_MODEL_16c67fc466c64e4494c21f0af6c5a521"
          }
        },
        "57300f9b2c1744d096ded739bb798bd0": {
          "model_module": "@jupyter-widgets/controls",
          "model_name": "ProgressStyleModel",
          "state": {
            "_view_name": "StyleView",
            "_model_name": "ProgressStyleModel",
            "description_width": "initial",
            "_view_module": "@jupyter-widgets/base",
            "_model_module_version": "1.5.0",
            "_view_count": null,
            "_view_module_version": "1.2.0",
            "bar_color": null,
            "_model_module": "@jupyter-widgets/controls"
          }
        },
        "986e8790cffb486f81c609db929884f9": {
          "model_module": "@jupyter-widgets/base",
          "model_name": "LayoutModel",
          "state": {
            "_view_name": "LayoutView",
            "grid_template_rows": null,
            "right": null,
            "justify_content": null,
            "_view_module": "@jupyter-widgets/base",
            "overflow": null,
            "_model_module_version": "1.2.0",
            "_view_count": null,
            "flex_flow": null,
            "width": null,
            "min_width": null,
            "border": null,
            "align_items": null,
            "bottom": null,
            "_model_module": "@jupyter-widgets/base",
            "top": null,
            "grid_column": null,
            "overflow_y": null,
            "overflow_x": null,
            "grid_auto_flow": null,
            "grid_area": null,
            "grid_template_columns": null,
            "flex": null,
            "_model_name": "LayoutModel",
            "justify_items": null,
            "grid_row": null,
            "max_height": null,
            "align_content": null,
            "visibility": null,
            "align_self": null,
            "height": null,
            "min_height": null,
            "padding": null,
            "grid_auto_rows": null,
            "grid_gap": null,
            "max_width": null,
            "order": null,
            "_view_module_version": "1.2.0",
            "grid_template_areas": null,
            "object_position": null,
            "object_fit": null,
            "grid_auto_columns": null,
            "margin": null,
            "display": null,
            "left": null
          }
        },
        "492dec995b7244f49c25edb45e71a065": {
          "model_module": "@jupyter-widgets/controls",
          "model_name": "DescriptionStyleModel",
          "state": {
            "_view_name": "StyleView",
            "_model_name": "DescriptionStyleModel",
            "description_width": "",
            "_view_module": "@jupyter-widgets/base",
            "_model_module_version": "1.5.0",
            "_view_count": null,
            "_view_module_version": "1.2.0",
            "_model_module": "@jupyter-widgets/controls"
          }
        },
        "16c67fc466c64e4494c21f0af6c5a521": {
          "model_module": "@jupyter-widgets/base",
          "model_name": "LayoutModel",
          "state": {
            "_view_name": "LayoutView",
            "grid_template_rows": null,
            "right": null,
            "justify_content": null,
            "_view_module": "@jupyter-widgets/base",
            "overflow": null,
            "_model_module_version": "1.2.0",
            "_view_count": null,
            "flex_flow": null,
            "width": null,
            "min_width": null,
            "border": null,
            "align_items": null,
            "bottom": null,
            "_model_module": "@jupyter-widgets/base",
            "top": null,
            "grid_column": null,
            "overflow_y": null,
            "overflow_x": null,
            "grid_auto_flow": null,
            "grid_area": null,
            "grid_template_columns": null,
            "flex": null,
            "_model_name": "LayoutModel",
            "justify_items": null,
            "grid_row": null,
            "max_height": null,
            "align_content": null,
            "visibility": null,
            "align_self": null,
            "height": null,
            "min_height": null,
            "padding": null,
            "grid_auto_rows": null,
            "grid_gap": null,
            "max_width": null,
            "order": null,
            "_view_module_version": "1.2.0",
            "grid_template_areas": null,
            "object_position": null,
            "object_fit": null,
            "grid_auto_columns": null,
            "margin": null,
            "display": null,
            "left": null
          }
        }
      }
    },
    "accelerator": "GPU"
  },
  "cells": [
    {
      "cell_type": "markdown",
      "metadata": {
        "id": "view-in-github",
        "colab_type": "text"
      },
      "source": [
        "<a href=\"https://colab.research.google.com/github/ElenaBinskaya/Test_Imagewoof2/blob/main/Imagewoof2_PyTorch.ipynb\" target=\"_parent\"><img src=\"https://colab.research.google.com/assets/colab-badge.svg\" alt=\"Open In Colab\"/></a>"
      ]
    },
    {
      "cell_type": "code",
      "metadata": {
        "id": "pT2aNN1yaeC9"
      },
      "source": [
        "import torch\n",
        "import torch.nn as nn\n",
        "import torch.optim as optim\n",
        "from torch.optim import lr_scheduler\n",
        "from sklearn.metrics import accuracy_score\n",
        "from copy import deepcopy\n",
        "import matplotlib.pyplot as plt\n",
        "import seaborn as sns\n",
        "\n",
        "import numpy as np\n",
        "import torchvision\n",
        "from torchvision import datasets, models, transforms\n",
        "\n",
        "import os\n",
        "import time\n",
        "import tqdm\n",
        "import copy"
      ],
      "execution_count": null,
      "outputs": []
    },
    {
      "cell_type": "code",
      "metadata": {
        "id": "At1ll83Aaj_r"
      },
      "source": [
        "!wget https://s3.amazonaws.com/fast-ai-imageclas/imagewoof2.tgz\n",
        "!tar -zxvf  imagewoof2.tgz"
      ],
      "execution_count": null,
      "outputs": []
    },
    {
      "cell_type": "code",
      "metadata": {
        "id": "H8P2n4LwamYC"
      },
      "source": [
        "# Преобразование обучающих данных для расширения обучающей выборки и её нормализация\n",
        "# Для валидационной (тестовой) выборки только нормализация\n",
        "data_transforms = {\n",
        "    'train': transforms.Compose([\n",
        "        transforms.RandomResizedCrop(244),\n",
        "        transforms.RandomHorizontalFlip(),\n",
        "        transforms.ToTensor(),\n",
        "        transforms.Normalize([0.485, 0.456, 0.406], [0.229, 0.224, 0.225])\n",
        "    ]),\n",
        "    'val': transforms.Compose([\n",
        "        transforms.Resize(256),\n",
        "        transforms.CenterCrop(244),\n",
        "        transforms.ToTensor(),\n",
        "        transforms.Normalize([0.485, 0.456, 0.406], [0.229, 0.224, 0.225])\n",
        "    ]),\n",
        "}\n",
        "# папка с данными. Если запускаете в колабе, нужно скопировать данные к себе в директорию и примонтировать диск. Если запускаете локально -- просто скачайте данные\n",
        "data_dir = './imagewoof2'\n",
        "image_datasets = {x: datasets.ImageFolder(os.path.join(data_dir, x),\n",
        "                                          data_transforms[x])\n",
        "                  for x in ['train', 'val']}\n",
        "# специальный класс для загрузки данных в виде батчей\n",
        "\n",
        "train_dataloader = torch.utils.data.DataLoader(\n",
        "    image_datasets[\"train\"], batch_size=32,\n",
        "    shuffle=True\n",
        ")\n",
        "val_dataloader = torch.utils.data.DataLoader(\n",
        "    image_datasets[\"val\"], batch_size=128\n",
        ")\n",
        "\n",
        "loaders = {\n",
        "    \"train\": train_dataloader,\n",
        "    \"val\": val_dataloader\n",
        "}\n",
        "\n",
        "dataset_sizes = {x: len(image_datasets[x]) for x in ['train', 'val']}\n",
        "class_names = image_datasets['train'].classes\n",
        "\n",
        "device = torch.device(\"cuda:0\" if torch.cuda.is_available() else \"cpu\")"
      ],
      "execution_count": null,
      "outputs": []
    },
    {
      "cell_type": "code",
      "metadata": {
        "colab": {
          "base_uri": "https://localhost:8080/",
          "height": 895,
          "referenced_widgets": [
            "657f23469379442c94c3ce0b894089e6",
            "8e2c8581d40e4d4788ad8fcbeff8c815",
            "79883f5e72aa4ac0b82d6d41e4496850",
            "27e81888aeb545ac923d9a270fe4ba93",
            "57300f9b2c1744d096ded739bb798bd0",
            "986e8790cffb486f81c609db929884f9",
            "492dec995b7244f49c25edb45e71a065",
            "16c67fc466c64e4494c21f0af6c5a521"
          ]
        },
        "id": "_Xhcr247f-zz",
        "outputId": "d8174edf-5093-4594-8a90-968ab80679e5"
      },
      "source": [
        "model = models.vgg16(pretrained=True)\n",
        "model"
      ],
      "execution_count": null,
      "outputs": [
        {
          "output_type": "stream",
          "text": [
            "Downloading: \"https://download.pytorch.org/models/vgg16-397923af.pth\" to /root/.cache/torch/hub/checkpoints/vgg16-397923af.pth\n"
          ],
          "name": "stderr"
        },
        {
          "output_type": "display_data",
          "data": {
            "application/vnd.jupyter.widget-view+json": {
              "model_id": "657f23469379442c94c3ce0b894089e6",
              "version_minor": 0,
              "version_major": 2
            },
            "text/plain": [
              "HBox(children=(FloatProgress(value=0.0, max=553433881.0), HTML(value='')))"
            ]
          },
          "metadata": {
            "tags": []
          }
        },
        {
          "output_type": "stream",
          "text": [
            "\n"
          ],
          "name": "stdout"
        },
        {
          "output_type": "execute_result",
          "data": {
            "text/plain": [
              "VGG(\n",
              "  (features): Sequential(\n",
              "    (0): Conv2d(3, 64, kernel_size=(3, 3), stride=(1, 1), padding=(1, 1))\n",
              "    (1): ReLU(inplace=True)\n",
              "    (2): Conv2d(64, 64, kernel_size=(3, 3), stride=(1, 1), padding=(1, 1))\n",
              "    (3): ReLU(inplace=True)\n",
              "    (4): MaxPool2d(kernel_size=2, stride=2, padding=0, dilation=1, ceil_mode=False)\n",
              "    (5): Conv2d(64, 128, kernel_size=(3, 3), stride=(1, 1), padding=(1, 1))\n",
              "    (6): ReLU(inplace=True)\n",
              "    (7): Conv2d(128, 128, kernel_size=(3, 3), stride=(1, 1), padding=(1, 1))\n",
              "    (8): ReLU(inplace=True)\n",
              "    (9): MaxPool2d(kernel_size=2, stride=2, padding=0, dilation=1, ceil_mode=False)\n",
              "    (10): Conv2d(128, 256, kernel_size=(3, 3), stride=(1, 1), padding=(1, 1))\n",
              "    (11): ReLU(inplace=True)\n",
              "    (12): Conv2d(256, 256, kernel_size=(3, 3), stride=(1, 1), padding=(1, 1))\n",
              "    (13): ReLU(inplace=True)\n",
              "    (14): Conv2d(256, 256, kernel_size=(3, 3), stride=(1, 1), padding=(1, 1))\n",
              "    (15): ReLU(inplace=True)\n",
              "    (16): MaxPool2d(kernel_size=2, stride=2, padding=0, dilation=1, ceil_mode=False)\n",
              "    (17): Conv2d(256, 512, kernel_size=(3, 3), stride=(1, 1), padding=(1, 1))\n",
              "    (18): ReLU(inplace=True)\n",
              "    (19): Conv2d(512, 512, kernel_size=(3, 3), stride=(1, 1), padding=(1, 1))\n",
              "    (20): ReLU(inplace=True)\n",
              "    (21): Conv2d(512, 512, kernel_size=(3, 3), stride=(1, 1), padding=(1, 1))\n",
              "    (22): ReLU(inplace=True)\n",
              "    (23): MaxPool2d(kernel_size=2, stride=2, padding=0, dilation=1, ceil_mode=False)\n",
              "    (24): Conv2d(512, 512, kernel_size=(3, 3), stride=(1, 1), padding=(1, 1))\n",
              "    (25): ReLU(inplace=True)\n",
              "    (26): Conv2d(512, 512, kernel_size=(3, 3), stride=(1, 1), padding=(1, 1))\n",
              "    (27): ReLU(inplace=True)\n",
              "    (28): Conv2d(512, 512, kernel_size=(3, 3), stride=(1, 1), padding=(1, 1))\n",
              "    (29): ReLU(inplace=True)\n",
              "    (30): MaxPool2d(kernel_size=2, stride=2, padding=0, dilation=1, ceil_mode=False)\n",
              "  )\n",
              "  (avgpool): AdaptiveAvgPool2d(output_size=(7, 7))\n",
              "  (classifier): Sequential(\n",
              "    (0): Linear(in_features=25088, out_features=4096, bias=True)\n",
              "    (1): ReLU(inplace=True)\n",
              "    (2): Dropout(p=0.5, inplace=False)\n",
              "    (3): Linear(in_features=4096, out_features=4096, bias=True)\n",
              "    (4): ReLU(inplace=True)\n",
              "    (5): Dropout(p=0.5, inplace=False)\n",
              "    (6): Linear(in_features=4096, out_features=1000, bias=True)\n",
              "  )\n",
              ")"
            ]
          },
          "metadata": {
            "tags": []
          },
          "execution_count": 4
        }
      ]
    },
    {
      "cell_type": "code",
      "metadata": {
        "id": "k_KkgLmtgHcZ"
      },
      "source": [
        "# num_features -- это размерность вектора фич, поступающего на вход FC-слою\n",
        "num_features = 4096\n",
        "# Заменяем Fully-Connected слой на наш линейный классификатор\n",
        "model.classifier[6] = nn.Linear(num_features, 10)\n",
        "\n",
        "optimizer = torch.optim.Adam(model.parameters(), lr=1e-4)\n",
        "criterion=nn.CrossEntropyLoss()\n",
        "\n",
        "model = model.to(device)"
      ],
      "execution_count": null,
      "outputs": []
    },
    {
      "cell_type": "code",
      "metadata": {
        "id": "b7HQVoO6g0Uq"
      },
      "source": [
        "def train_model(model, criterion, optimizer, num_epochs=10):\n",
        "    since = time.time()\n",
        "\n",
        "    best_model_wts = copy.deepcopy(model.state_dict())\n",
        "    best_acc = 0.0\n",
        "    train_losses = []\n",
        "    val_losses = []\n",
        "    valid_accuracies = []\n",
        "\n",
        "    for epoch in range(num_epochs):\n",
        "        print('Epoch {}/{}'.format(epoch, num_epochs - 1))\n",
        "        print('-' * 10)\n",
        "\n",
        "        # Each epoch has a training and validation phase\n",
        "        for phase in ['train', 'val']:\n",
        "            if phase == 'train':\n",
        "                model.train()  # Set model to training mode\n",
        "            else:\n",
        "                model.eval()   # Set model to evaluate mode\n",
        "\n",
        "            running_loss = 0.0\n",
        "            running_corrects = 0\n",
        "\n",
        "            # Iterate over data.\n",
        "            for inputs, labels in loaders[phase]:\n",
        "                inputs = inputs.to(device)\n",
        "                labels = labels.to(device)\n",
        "\n",
        "                # zero the parameter gradients\n",
        "                optimizer.zero_grad()\n",
        "\n",
        "                # forward\n",
        "                # track history if only in train\n",
        "                with torch.set_grad_enabled(phase == 'train'):\n",
        "                    outputs = model(inputs)\n",
        "                    _, preds = torch.max(outputs, 1)\n",
        "                    loss = criterion(outputs, labels)\n",
        "\n",
        "                    # backward + optimize only if in training phase\n",
        "                    if phase == 'train':\n",
        "                        loss.backward()\n",
        "                        optimizer.step()\n",
        "\n",
        "                # statistics\n",
        "                running_loss += loss.item() * inputs.size(0)\n",
        "                running_corrects += torch.sum(preds == labels.data)\n",
        "            # if phase == 'train':\n",
        "            #     scheduler.step()\n",
        "\n",
        "            epoch_loss = running_loss / dataset_sizes[phase]\n",
        "            epoch_acc = running_corrects.double() / dataset_sizes[phase]\n",
        "            if phase == 'train':\n",
        "                train_losses.append(epoch_loss)\n",
        "            else:\n",
        "              val_losses.append(epoch_loss)\n",
        "              valid_accuracies.append(epoch_acc)\n",
        "\n",
        "            print('{} Loss: {:.4f} Acc: {:.4f}'.format(\n",
        "                phase, epoch_loss, epoch_acc))\n",
        "\n",
        "            # deep copy the model\n",
        "            if phase == 'val' and epoch_acc > best_acc:\n",
        "                best_acc = epoch_acc\n",
        "                best_model_wts = copy.deepcopy(model.state_dict())\n",
        "\n",
        "        print()\n",
        "\n",
        "    time_elapsed = time.time() - since\n",
        "    print('Training complete in {:.0f}m {:.0f}s'.format(\n",
        "        time_elapsed // 60, time_elapsed % 60))\n",
        "    print('Best val Acc: {:4f}'.format(best_acc))\n",
        "\n",
        "    # load best model weights\n",
        "    model.load_state_dict(best_model_wts)\n",
        "    return model, train_losses, val_losses, valid_accuracies "
      ],
      "execution_count": null,
      "outputs": []
    },
    {
      "cell_type": "code",
      "metadata": {
        "colab": {
          "base_uri": "https://localhost:8080/"
        },
        "id": "cNZUc6pQhjXx",
        "outputId": "a125c0e1-177f-4ed9-975e-3d9759d4453c"
      },
      "source": [
        "model_ft,train_losses, val_losses, valid_accuracies = train_model(model, criterion, optimizer,\n",
        "                       num_epochs=10)"
      ],
      "execution_count": null,
      "outputs": [
        {
          "output_type": "stream",
          "text": [
            "Epoch 0/9\n",
            "----------\n",
            "train Loss: 0.7252 Acc: 0.7589\n",
            "val Loss: 0.4625 Acc: 0.8628\n",
            "\n",
            "Epoch 1/9\n",
            "----------\n",
            "train Loss: 0.5893 Acc: 0.8050\n",
            "val Loss: 0.3739 Acc: 0.8794\n",
            "\n",
            "Epoch 2/9\n",
            "----------\n",
            "train Loss: 0.4991 Acc: 0.8315\n",
            "val Loss: 0.3980 Acc: 0.8687\n",
            "\n",
            "Epoch 3/9\n",
            "----------\n",
            "train Loss: 0.5089 Acc: 0.8285\n",
            "val Loss: 0.2833 Acc: 0.9137\n",
            "\n",
            "Epoch 4/9\n",
            "----------\n",
            "train Loss: 0.4513 Acc: 0.8514\n",
            "val Loss: 0.3040 Acc: 0.9071\n",
            "\n",
            "Epoch 5/9\n",
            "----------\n",
            "train Loss: 0.4375 Acc: 0.8558\n",
            "val Loss: 0.3644 Acc: 0.8860\n",
            "\n",
            "Epoch 6/9\n",
            "----------\n",
            "train Loss: 0.5322 Acc: 0.8166\n",
            "val Loss: 0.2918 Acc: 0.9130\n",
            "\n",
            "Epoch 7/9\n",
            "----------\n",
            "train Loss: 0.4100 Acc: 0.8625\n",
            "val Loss: 0.3328 Acc: 0.9030\n",
            "\n",
            "Epoch 8/9\n",
            "----------\n",
            "train Loss: 0.3962 Acc: 0.8655\n",
            "val Loss: 0.3006 Acc: 0.9056\n",
            "\n",
            "Epoch 9/9\n",
            "----------\n",
            "train Loss: 0.3894 Acc: 0.8710\n",
            "val Loss: 0.3614 Acc: 0.8939\n",
            "\n",
            "Training complete in 44m 57s\n",
            "Best val Acc: 0.913719\n"
          ],
          "name": "stdout"
        }
      ]
    },
    {
      "cell_type": "code",
      "metadata": {
        "id": "8F8xOlPLbcmF"
      },
      "source": [
        "def plot_trainig(train_losses, valid_losses, valid_accuracies):\n",
        "    plt.figure(figsize=(12, 9))\n",
        "    plt.subplot(2, 1, 1)\n",
        "    plt.xlabel('epoch')\n",
        "    plt.plot(train_losses, label='train_loss')\n",
        "    plt.plot(valid_losses, label='valid_loss')\n",
        "    plt.legend()\n",
        "    \n",
        "    plt.subplot(2, 1, 2)\n",
        "    plt.xlabel('epoch')\n",
        "    plt.plot(valid_accuracies, label='valid accuracy')\n",
        "    plt.legend()"
      ],
      "execution_count": null,
      "outputs": []
    },
    {
      "cell_type": "code",
      "metadata": {
        "colab": {
          "base_uri": "https://localhost:8080/",
          "height": 551
        },
        "id": "kw07je6YbhM0",
        "outputId": "54a10270-79ff-48db-9350-1f6464ca8a5f"
      },
      "source": [
        "plot_trainig(train_losses, val_losses, valid_accuracies)"
      ],
      "execution_count": null,
      "outputs": [
        {
          "output_type": "display_data",
          "data": {
            "image/png": "[encoded data removed]",
            "text/plain": [
              "<Figure size 864x648 with 2 Axes>"
            ]
          },
          "metadata": {
            "tags": [],
            "needs_background": "light"
          }
        }
      ]
    },
    {
      "cell_type": "code",
      "metadata": {
        "id": "fRt06BbmUwyt"
      },
      "source": [
        "model_extractor = models.vgg16(pretrained=True)"
      ],
      "execution_count": null,
      "outputs": []
    },
    {
      "cell_type": "code",
      "metadata": {
        "id": "vZ25T5gIf25f"
      },
      "source": [
        "# замораживаем параметры (веса)\n",
        "for param in model_extractor.parameters():\n",
        "    param.requires_grad = False\n",
        "\n",
        "model_extractor.classifier[6] = nn.Linear(num_features, 10)\n",
        "\n",
        "# Обучаем только классификатор\n",
        "optimizer = optim.Adam(model_extractor.classifier[6].parameters(), lr=1e-4)\n",
        "\n",
        "model_extractor = model_extractor.to(device)"
      ],
      "execution_count": null,
      "outputs": []
    },
    {
      "cell_type": "code",
      "metadata": {
        "colab": {
          "base_uri": "https://localhost:8080/"
        },
        "id": "kRYEmMtIgHq8",
        "outputId": "8fbb55be-c523-4874-adb4-72a2aa1efcc1"
      },
      "source": [
        "model_ft_extractor,train_losses, val_losses, valid_accuracies = train_model(model_extractor, criterion, optimizer,\n",
        "                       num_epochs=10)"
      ],
      "execution_count": null,
      "outputs": [
        {
          "output_type": "stream",
          "text": [
            "Epoch 0/9\n",
            "----------\n",
            "train Loss: 0.8578 Acc: 0.7852\n",
            "val Loss: 0.2521 Acc: 0.9440\n",
            "\n",
            "Epoch 1/9\n",
            "----------\n",
            "train Loss: 0.4526 Acc: 0.8687\n",
            "val Loss: 0.1889 Acc: 0.9501\n",
            "\n",
            "Epoch 2/9\n",
            "----------\n",
            "train Loss: 0.3908 Acc: 0.8793\n",
            "val Loss: 0.1676 Acc: 0.9522\n",
            "\n",
            "Epoch 3/9\n",
            "----------\n",
            "train Loss: 0.3710 Acc: 0.8814\n",
            "val Loss: 0.1576 Acc: 0.9547\n",
            "\n",
            "Epoch 4/9\n",
            "----------\n",
            "train Loss: 0.3686 Acc: 0.8812\n",
            "val Loss: 0.1524 Acc: 0.9524\n",
            "\n",
            "Epoch 5/9\n",
            "----------\n",
            "train Loss: 0.3574 Acc: 0.8827\n",
            "val Loss: 0.1496 Acc: 0.9539\n",
            "\n",
            "Epoch 6/9\n",
            "----------\n",
            "train Loss: 0.3476 Acc: 0.8854\n",
            "val Loss: 0.1460 Acc: 0.9550\n",
            "\n",
            "Epoch 7/9\n",
            "----------\n",
            "train Loss: 0.3345 Acc: 0.8898\n",
            "val Loss: 0.1452 Acc: 0.9550\n",
            "\n",
            "Epoch 8/9\n",
            "----------\n",
            "train Loss: 0.3411 Acc: 0.8822\n",
            "val Loss: 0.1435 Acc: 0.9547\n",
            "\n",
            "Epoch 9/9\n",
            "----------\n",
            "train Loss: 0.3259 Acc: 0.8923\n",
            "val Loss: 0.1429 Acc: 0.9552\n",
            "\n",
            "Training complete in 26m 26s\n",
            "Best val Acc: 0.955205\n"
          ],
          "name": "stdout"
        }
      ]
    },
    {
      "cell_type": "code",
      "metadata": {
        "colab": {
          "base_uri": "https://localhost:8080/",
          "height": 551
        },
        "id": "fmlSB8rwwPq_",
        "outputId": "2bb0c775-80b7-4d9d-9aa7-6bbc86804924"
      },
      "source": [
        "plot_trainig(train_losses, val_losses, valid_accuracies)"
      ],
      "execution_count": null,
      "outputs": [
        {
          "output_type": "display_data",
          "data": {
            "image/png": "[encoded data removed]",
            "text/plain": [
              "<Figure size 864x648 with 2 Axes>"
            ]
          },
          "metadata": {
            "tags": [],
            "needs_background": "light"
          }
        }
      ]
    },
    {
      "cell_type": "code",
      "metadata": {
        "id": "lvuw-yW4qJfp"
      },
      "source": [
        "# размораживаем параметры (веса)\n",
        "for param in model_ft_extractor.parameters():\n",
        "    param.requires_grad = True\n",
        "\n",
        "optimizer = optim.Adam(model_ft_extractor.parameters(), lr=1e-5)\n"
      ],
      "execution_count": null,
      "outputs": []
    },
    {
      "cell_type": "code",
      "metadata": {
        "colab": {
          "base_uri": "https://localhost:8080/"
        },
        "id": "HCIPcZxIwc96",
        "outputId": "3793ae78-fd3d-4cc5-d7fc-b2c47f26332c"
      },
      "source": [
        "model_ft_extractor,train_losses, val_losses, valid_accuracies = train_model(model_ft_extractor, criterion, optimizer,\n",
        "                       num_epochs=10)"
      ],
      "execution_count": null,
      "outputs": [
        {
          "output_type": "stream",
          "text": [
            "Epoch 0/9\n",
            "----------\n",
            "train Loss: 0.3507 Acc: 0.8834\n",
            "val Loss: 0.1454 Acc: 0.9516\n",
            "\n",
            "Epoch 1/9\n",
            "----------\n",
            "train Loss: 0.3314 Acc: 0.8912\n",
            "val Loss: 0.1433 Acc: 0.9544\n",
            "\n",
            "Epoch 2/9\n",
            "----------\n",
            "train Loss: 0.3045 Acc: 0.8951\n",
            "val Loss: 0.1539 Acc: 0.9514\n",
            "\n",
            "Epoch 3/9\n",
            "----------\n",
            "train Loss: 0.2911 Acc: 0.9008\n",
            "val Loss: 0.1595 Acc: 0.9519\n",
            "\n",
            "Epoch 4/9\n",
            "----------\n",
            "train Loss: 0.2805 Acc: 0.9053\n",
            "val Loss: 0.1580 Acc: 0.9537\n",
            "\n",
            "Epoch 5/9\n",
            "----------\n",
            "train Loss: 0.2744 Acc: 0.9019\n",
            "val Loss: 0.1589 Acc: 0.9494\n",
            "\n",
            "Epoch 6/9\n",
            "----------\n",
            "train Loss: 0.2814 Acc: 0.9037\n",
            "val Loss: 0.1569 Acc: 0.9516\n",
            "\n",
            "Epoch 7/9\n",
            "----------\n",
            "train Loss: 0.2630 Acc: 0.9119\n",
            "val Loss: 0.1614 Acc: 0.9486\n",
            "\n",
            "Epoch 8/9\n",
            "----------\n",
            "train Loss: 0.2668 Acc: 0.9089\n",
            "val Loss: 0.1585 Acc: 0.9544\n",
            "\n",
            "Epoch 9/9\n",
            "----------\n",
            "train Loss: 0.2506 Acc: 0.9149\n",
            "val Loss: 0.1584 Acc: 0.9511\n",
            "\n",
            "Training complete in 45m 14s\n",
            "Best val Acc: 0.954441\n"
          ],
          "name": "stdout"
        }
      ]
    },
    {
      "cell_type": "code",
      "metadata": {
        "id": "SE9sQBIHws-p",
        "colab": {
          "base_uri": "https://localhost:8080/",
          "height": 551
        },
        "outputId": "97782e65-7209-4ea8-c759-08ce57a000ff"
      },
      "source": [
        "plot_trainig(train_losses, val_losses, valid_accuracies)"
      ],
      "execution_count": null,
      "outputs": [
        {
          "output_type": "display_data",
          "data": {
            "image/png": "[encoded data removed]",
            "text/plain": [
              "<Figure size 864x648 with 2 Axes>"
            ]
          },
          "metadata": {
            "tags": [],
            "needs_background": "light"
          }
        }
      ]
    },
    {
      "cell_type": "code",
      "metadata": {
        "id": "dfCUqfEAuDSu"
      },
      "source": [
        ""
      ],
      "execution_count": null,
      "outputs": []
    }
  ]
}